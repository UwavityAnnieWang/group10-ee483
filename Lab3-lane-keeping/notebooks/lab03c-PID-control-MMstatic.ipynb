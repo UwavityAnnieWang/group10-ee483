{
 "cells": [
  {
   "cell_type": "markdown",
   "metadata": {},
   "source": [
    "# <p style=\"text-align: center;\"> <span style=\"color:yellowgreen\"> PID controller static MM </span></p>\n",
    "\n",
    "In this notebook, you will implement a PID controller that always aligns the MM with the lane direction   \n",
    "The PID controller implementation will be as in your Ex8   \n",
    "However, we start with the MM not moving, i.e., linear velocity is zero. "
   ]
  },
  {
   "cell_type": "markdown",
   "metadata": {},
   "source": [
    "## Code structure\n",
    "\n",
    "\n",
    "You already have most of the code needed to complete this assignment from Ex 8.   \n",
    "The MM publishes its orientation angle in the topic `ee483mm<number>/lane_filter_node/lane_pose` - A LanePose message type.   \n",
    "\n",
    "Alterations:  \n",
    "- Import message types: `from duckietown_msgs.msg import LanePose, Twist2DStamped`\n",
    "- Subscribe to lane_pose topic as mentioned above with message type LanePose\n",
    "- Publish to `/ee483mm[number]/car_cmd_switch_node/cmd` topic - Twist2DStamped message\n",
    "- Create a callback function for your PID implementation\n",
    "\t- Calculate the error value based on the MM orientation.  \n",
    "\tThe reference for the MM is 0 radians, $error = -\\varphi$  \n",
    "\t- Calculate controller output based on your PID\n",
    "\t- Create a Twist2DStamped message - `car_cmd = Twist2DStamped()`\n",
    "\t- Set linear velocity to 0 - `car_cmd.v = 0`\n",
    "\t- Set omega velocity to controller output - `car_cmd.omega = controller_output`\n",
    "\t- Publish the message\n",
    "\n",
    "You will have to tune your PID parameters.\n",
    "\n",
    "<p> <span style=\"color:coral\"> \n",
    "DEMO: When you are done tunning your controller, you need to demonstrate your results to the instructor.   \n",
    "Open the rqt_plot (rosrun rqt_plot rqt_plot) to show the plots of the omega value and phi during the demonstration </span></p>\n",
    "\n",
    "\n",
    "The video below shows the plot orientation angle $\\varphi$ of the MM with a  stable PID controller   \n",
    "There are two measures being plotted: $\\varphi$ raw and the moving average of $\\varphi$ (smoother).  \n",
    "Note that the video starts with a negative value for $\\varphi$.  \n",
    "The robot oscilates until it converges back to orientation close to $0$  \n",
    "\n",
    "<br><img src=\"../assets/lab3-images/stable-with-pd.gif\" style=\"width: 100%; height: auto;\"></br>\n",
    "\n",
    "\n",
    "\n",
    "## Recommendations \n",
    "\n",
    "- Your PID controller(s) may only use the P or PI components. Even if it works with fewer components it will still satisfy the requirements of this lab.\n",
    "- There will be errors in sensing as we have tested in notebook 03a.    \n",
    "\t- You may want to threshold limit the maximum/minimum errors given to your controller. \n",
    "\t- Set a maximum control signal you will send. \n",
    "\t- Calculate and remove offsets (bias)\n",
    "\t- Apply a filter to remove noise, e.g., moving average filter.  \n",
    "- Be patient and work out what your robot is telling you versus what it should be doing.  \n",
    "- It is highly recommended to use ROS parameters to control the gains in your PID code. This way you can update the gains as the vehicle runs.   \n",
    "\t- Recall about using parameters in your code in Ex3\n",
    "\t- Setting parameters by attaching a terminal `dts devel run attach -H ee483mm[number].local`\n",
    "\t- Command to set parameter in the terminal: `rosparam set [parameter_name] [value]`\n",
    "\t- Command to get parameter in the terminal: `rosparam get [parameter_name]`\n",
    "- Start testing with errors, then work with larger errors (MM almost aligned to lane versus MM perperdicular to the lane)\n",
    "\n",
    "# Reminders to test code in the MM\n",
    "\n",
    "### Testing code\n",
    "\n",
    "Similar to Lab 2 after uploading your Docker image to MM, we need to run the following command to update any changes you make in your lab3 package. \n",
    "\n",
    "**Assumptions:**\n",
    "- There is the lab3 package in notebook 02b\n",
    "- You are running the command inside `lab-devel`\n",
    "- The laptop is connected the `robot-lan` network or wired to the MM\n",
    "- The MM is on\n"
   ]
  },
  {
   "cell_type": "code",
   "execution_count": null,
   "metadata": {
    "vscode": {
     "languageId": "shellscript"
    }
   },
   "outputs": [],
   "source": [
    "dts devel run -H ee483mm[number].local -s -M --cmd bash -f"
   ]
  }
 ],
 "metadata": {
  "kernelspec": {
   "display_name": "Python 3.8.10 64-bit",
   "language": "python",
   "name": "python3"
  },
  "language_info": {
   "name": "python",
   "version": "3.8.10"
  },
  "vscode": {
   "interpreter": {
    "hash": "916dbcbb3f70747c44a77c7bcd40155683ae19c65e1c03b4aa3499c5328201f1"
   }
  }
 },
 "nbformat": 4,
 "nbformat_minor": 2
}
