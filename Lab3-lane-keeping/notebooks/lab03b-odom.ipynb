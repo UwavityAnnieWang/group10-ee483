{
 "cells": [
  {
   "cell_type": "markdown",
   "metadata": {},
   "source": [
    "# <p style=\"text-align: center;\"> <span style=\"color:yellowgreen\"> MM odom </span></p>\n",
    "\n",
    "In this notebook, we will cover information about the MM camera"
   ]
  },
  {
   "cell_type": "markdown",
   "metadata": {},
   "source": [
    "## <p style=\"text-align: center;\"> <span style=\"color:coral\"> Difference to your Ex7 exercise </span></p>\n",
    "\n",
    "The main different is that:\n",
    "\n",
    "- Ex7 receives the distances of each wheel whereas the `left_wheel_encoder_node/tick` and `right_wheel_encoder_node/tick` topics send the tick count instead of distance\n",
    "- Each `tick` count is in one topic: You will need to implement messagefilters to subscring to two topics at once (As in Ex5)\n",
    "\n",
    "\n",
    "Therefore, you will need to convert `tick` counts to wheels distance.  \n",
    "Recall the formula: \n",
    "\n",
    "$$d = 2\\pi R \\frac{N}{N_{tot}}$$\n",
    "\n",
    "where $2R = 0.067 m$, $N_{tot}= 135$, and $N$ is the different between current tick count and previous tick count.  \n",
    "If you view rostopic echo in one of the encoder: `rostopic echo /ee483mm[number]/left_wheel_encoder_node/tick`, you will see various values as shown in the image below.  \n",
    "The `tick` count is inside `data` where `resolution` = $N_{tot}$ \n",
    "\n",
    "\n",
    "<br><img src=\"../assets/lab3-images/encoder_tick.png\" style=\"width: 75%; height: auto;\"></br>\n",
    "\n",
    "\n",
    "You can run rostopic echo after starting the gui tools\n"
   ]
  },
  {
   "cell_type": "code",
   "execution_count": null,
   "metadata": {
    "vscode": {
     "languageId": "shellscript"
    }
   },
   "outputs": [],
   "source": [
    "dts start_gui_tools ee483mm<number>"
   ]
  },
  {
   "cell_type": "markdown",
   "metadata": {},
   "source": [
    "Once you have calculated the left and right wheel distances, your Ex7 code should remain the same.  \n",
    "Recall that odometry implements the following equations: \n",
    "\n",
    "$$ \\Delta x = \\Delta s \\cos(\\theta + \\frac{\\Delta \\theta}{2})$$\n",
    "$$ \\Delta y = \\Delta s \\sin(\\theta + \\frac{\\Delta \\theta}{2})$$\n",
    "$$ \\Delta x = x + \\Delta x$$\n",
    "$$ \\Delta y = y + \\Delta y$$\n",
    "$$ \\Delta \\theta = \\theta + \\Delta \\theta$$\n",
    "\n",
    "Recall that: \n",
    "$$\\Delta s = \\frac{\\Delta s_L + \\Delta s_R}{2}$$\n",
    "$$\\Delta \\theta  = \\frac{\\Delta s_R - \\Delta s_L}{2L}$$\n",
    "\n",
    "Where $2L = 0.1 m$.\n",
    "\n",
    "Your robot positions will be calculated in *meters*\n",
    "\n",
    "List of modification to your Ex7 code:\n",
    "\n",
    "- Import WheelEncoderStamped message: `from duckietown_msgs.msg import WheelEncoderStamped`\n",
    "- Import MessageFilters\n",
    "- Subscribes to the two wheel_encoder_node topics: `/ee483mm[number]/left_wheel_encoder_node/tick` and  `/ee483mm[number]/right_wheel_encoder_node/tick`\n",
    "- In the callback, calculate distance traveled per wheel based on number of tick counts in between two calls\n",
    "- Calculate new position based on Ex 7 code\n",
    "- Calculate total distance traveled based on updated position\n",
    "\n",
    "**Make sure to add your odom node in the lab3.launch file**"
   ]
  },
  {
   "cell_type": "markdown",
   "metadata": {},
   "source": [
    "# Reminders to test code in the MM\n",
    "\n",
    "### Testing code\n",
    "\n",
    "Similar to Lab 2 after uploading your Docker image to MM, we need to run the following command to update any changes you make in your lab3 package. \n",
    "\n",
    "**Assumptions:**\n",
    "- There is the lab3 package\n",
    "- You are running the command inside `lab-devel`\n",
    "- The laptop is connected the `robot-lan` network or wired to the MM\n",
    "- The MM is on\n"
   ]
  },
  {
   "cell_type": "code",
   "execution_count": null,
   "metadata": {
    "vscode": {
     "languageId": "shellscript"
    }
   },
   "outputs": [],
   "source": [
    "dts devel run -H ee483mm[number].local -s -M --cmd bash -f "
   ]
  }
 ],
 "metadata": {
  "kernelspec": {
   "display_name": "Python 3.8.10 64-bit",
   "language": "python",
   "name": "python3"
  },
  "language_info": {
   "name": "python",
   "version": "3.8.10"
  },
  "vscode": {
   "interpreter": {
    "hash": "916dbcbb3f70747c44a77c7bcd40155683ae19c65e1c03b4aa3499c5328201f1"
   }
  }
 },
 "nbformat": 4,
 "nbformat_minor": 2
}
