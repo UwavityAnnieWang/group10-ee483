{
 "cells": [
  {
   "cell_type": "markdown",
   "metadata": {},
   "source": [
    "# <p style=\"text-align: center;\"> <span style=\"color:yellowgreen\"> MM orientation </span></p>\n",
    "\n",
    "At the end of lab 2, you have obtain the line segments representing the white lanes in Duckietown  \n",
    "In this notebook, we will obtain the orientation values $\\varphi$ of the MM based on these line segments, i.e., it measures the MM angle relative to the lane  \n",
    "We will cover two ways: one using the Duckiebot code, and one using yours  \n",
    "Feel free to use either of them to complete lab 3 tasks  \n",
    "\n",
    "**REMARK** This is a real robot with real hardware, so there will be errors in sensing.  \n",
    "Sensing erros tend to get worse when controlling the robot   \n",
    "However, there are techniques to mitigate them   \n",
    "Be patient and work out what your robot is telling you versus what it should be doing  \n",
    "Here it is a good time to just observe your sensor values and get a feel of their errors  \n",
    "For instance, start rotating the MM in the lane and see the orientation values changing   \n",
    "Do you spot any errors? How could we reduce them?\n",
    "\n",
    "\n",
    "## <p style=\"text-align: center;\"> <span style=\"color:coral\"> Orientation with Duckiebot code </span></p>\n",
    "\n",
    "In the lab3 package, we have provide a launch file **lab3.launch**  \n",
    "As it is provide, this launch file starts the lane detector and lane filter (calculates the orientation $\\varphi$ of the robot) using the duckiebot code  \n",
    "The code below is the **lab3.launch** file"
   ]
  },
  {
   "cell_type": "code",
   "execution_count": null,
   "metadata": {
    "vscode": {
     "languageId": "xml"
    }
   },
   "outputs": [],
   "source": [
    "<launch>\n",
    "\n",
    "    <arg name=\"veh\" default=\"$(env VEHICLE_NAME)\"/>\n",
    "    <arg name=\"ai_trafo_mode\" default=\"cb\" doc=\"'cb' for colo balance only; 'both' for color balance and linear trafo\"/>\n",
    "    <arg name=\"ai_interval\" default=\"5\" doc=\"interval with which the linear trafo gets updated. color balance is performed every second.\"/>\n",
    "    <arg name=\"verbose\" default=\"false\"/>\n",
    "\n",
    "    <!-- start Duckietown nodes -->\n",
    "    <arg name=\"demo_name\" value=\"lane_following\"/>\n",
    "\n",
    "    <include file=\"$(find led_emitter)/launch/led_emitter_node.launch\">\n",
    "\n",
    "        <arg name=\"veh\" value=\"$(env VEHICLE_NAME)\"/>\n",
    "\n",
    "    </include>\n",
    "    \n",
    "    <!-- start basic args -->\n",
    "    <include file=\"$(find duckietown_demos)/launch/master.launch\">\n",
    "\n",
    "        <!-- Basic arguments -->\n",
    "        <arg name=\"veh\" value=\"$(arg veh)\"/>\n",
    "        <arg name=\"demo_name\" value=\"$(arg demo_name)\"/>\n",
    "        <arg name=\"param_file_name\" value=\"default\" />\n",
    "        <arg name=\"visualization\" value=\"true\" />\n",
    "\n",
    "        <!-- Finite state machine -->\n",
    "        <arg name=\"fsm\" value=\"true\"/>\n",
    "        <arg name=\"/fsm/logic_gate\" value=\"false\"/>\n",
    "\n",
    "        <!-- Camera and anti intagram -->\n",
    "        <arg name=\"/camera/raw\" value=\"false\" />\n",
    "        <arg name=\"anti_instagram\" value=\"true\" />\n",
    "\n",
    "        <!-- Lane Following stack -->\n",
    "        <arg name=\"lane_following\" value=\"true\"/>\n",
    "\t\t<!-- The duckiebot lane detector. Initially as true (Active). If you want to use your lane detector, change the value to \"false\" and start your node in the next group in line 52-->\n",
    "        <arg name=\"/lane_following/line_detection\" value=\"true\"/>\n",
    "        \n",
    "\t\t<arg name=\"line_detector_param_file_name\" value=\"default\" />\n",
    "        <arg name=\"/lane_following/ground_projection\" value=\"true\"/>\n",
    "\n",
    "\t\t<!-- Gets line segments from line_detection and transforms to orientation value phi -->\n",
    "        <arg name=\"/lane_following/lane_filter\" value=\"true\"/>\n",
    "\n",
    "\t\t<!-- Starts the duckiebot PID - start as false. If you want to check the duckiebot PID change this to true. Remember to change to false when testing your controller -->\n",
    "        <arg name=\"/lane_following/lane_controller\" value=\"false\"/>\n",
    "\n",
    "    </include>\n",
    "\n",
    "    <group ns=\"$(env VEHICLE_NAME)\">\n",
    "        <!-- UNCOMMENT The line below to start  your lane detection node instead of duckiebots. Update the parameters as needed and make sure to change the /lane_following/line_detection value to false in line 37-->\n",
    "\t\t<!-- <node pkg = \"lab2\" type = \"line_detection.py\" name = \"line_detection\" output = \"screen\"/> -->\n",
    "\n",
    "\t\t<!-- Add your controller and odometry nodes below -->\n",
    "        \n",
    "\n",
    "    </group>\n",
    "\n",
    "</launch>"
   ]
  },
  {
   "cell_type": "markdown",
   "metadata": {},
   "source": [
    "- Run this launch file with the MM in the track (At the end of this notebook we recall the commands to test code in the MM)\n",
    "\n",
    "- Start the the gui in a new terminal `dts start_gui_tools ee483mm[number]`\n",
    "\t- Observe the output of topic `rostopic echo ee483mm<number>/lane_filter_node/lane_pose` \n",
    "\t- It has multiple parameters, but we are interested in the orientation `phi` values  \n",
    "\n",
    "<br><img src=\"../assets/lab3-images/echo_lane_pose.png\" style=\"width: 75%; height: auto;\"></br>\n",
    "\n",
    "- Ploting the orientation values \n",
    "\t- Close the rostopic echo but leave the start_gui_tools terminal open\n",
    "\t- Run the command `rosrun rqt_plot rqt_plot`\n",
    "\t- A window will open: at the top write: `ee483mm<number>/lane_filter_node/lane_pose/phi` \n",
    "\t- This will plot the values of `phi` through time\n",
    "\n",
    "<br><img src=\"../assets/lab3-images/rqt_plot_phi.png\" style=\"width: 75%; height: auto;\"></br>\n",
    "\n",
    "- Rotate the MM in the track to observe the `phi` values\n",
    "\n",
    "Take note of some observations based on the readings:\n",
    "- Does it have errors? e.g., offset, sporadic jumps\n",
    "- When do usually these errors occur? Rotating left, rotating right, etc. \n",
    "- What would be possible solutions to get more consistent results?\n",
    "\n",
    "**REPORT: Add this information to your lab report as well as submit these findings in the Class teams group chat**\n",
    "\n",
    "\n",
    "\n",
    "## <p style=\"text-align: center;\"> <span style=\"color:coral\"> Orientation with your code </span></p>\n",
    "\n",
    "You have developed a code to obtain the line segments of white lanes  \n",
    "To calculate the orientation of the MM using your lane detector we need to add new functions on top of your calculations:\n",
    "1. Detect the yellow lanes (for better accuracy)\n",
    "2. Publish normalized white and yellow line segments in a topic\n",
    "\n",
    "We have created a node called *line_detection.py* inside the lab 3 package  \n",
    "You can your color filtering, canny, and HoughLinesP tunning values from lab 2 in\n",
    " - Function white_filter   \n",
    "\t- Lines 60 - Your coloring filter HSV values\n",
    "\t- Line 61 - Your erosion kernel\n",
    "\t- Line 62 - Your dilation kernel\n",
    " - Function segment  \n",
    "\t- Lines 93 - Your Canny thresholds\n",
    "\t- Line 108 - Your HoughLinesP values\n",
    "\n",
    "You can also tune the yellow filter if needed.  \n",
    "You do not need to change the cropping (This is fixed)  \n",
    "The image has also been downgraded for better performance  \n",
    "\n",
    "\n",
    "Once you have updated your values:\n",
    "- Change lines 36 (value = \"false\") and 51 (uncomment) \n",
    "- Run your the launch file (after dts devel run -H mmname.local -s -f -M --cmd bash)\n",
    "- Start GUI in a new terminal \"dts start_gui_tools mmname\"   \n",
    "- Run either rostopic echo or rqt_plot (as described in the first method above) to see phi values \n",
    "\n",
    "\n",
    "\n",
    "**REPORT:Which one of codes (yours or duckiebot's) provide better results?**\n"
   ]
  },
  {
   "cell_type": "markdown",
   "metadata": {},
   "source": [
    "## Reminders to test code in the MM\n",
    "\n",
    "### Testing code\n",
    "\n",
    "Similar to Lab 2 after uploading your Docker image to MM, we need to run the following command to update any changes you make in your lab3 package. \n",
    "\n",
    "**Assumptions:**\n",
    "- There is the lab3 package\n",
    "- You are running the command inside `lab-devel`\n",
    "- The laptop is connected the `robot-lan` network or wired to the MM\n",
    "- The MM is on\n"
   ]
  },
  {
   "cell_type": "code",
   "execution_count": null,
   "metadata": {
    "vscode": {
     "languageId": "shellscript"
    }
   },
   "outputs": [],
   "source": [
    "dts devel run -H ee483mm[number].local -s -M --cmd bash -f "
   ]
  },
  {
   "cell_type": "markdown",
   "metadata": {},
   "source": [
    "Once the MM shell appear, built and activate the catkin workspace  \n",
    "Sometimes, you don't need to build or source it everytime you run dts devel run (give a try)  \n",
    "It might be that the autocomplete might not work though but the rosrun still works with your package when you run it"
   ]
  },
  {
   "cell_type": "code",
   "execution_count": null,
   "metadata": {
    "vscode": {
     "languageId": "shellscript"
    }
   },
   "outputs": [],
   "source": [
    "catkin_build lab3\n",
    "source /code/catkin_ws/devel/setup.bash"
   ]
  },
  {
   "cell_type": "markdown",
   "metadata": {},
   "source": [
    "### Common errors\n",
    "1. If you get a docker conflict saying container is already running, there are two options \n",
    "\n",
    "\t- Attach to the running container.\n",
    "\n",
    "\t\t`dts devel run attach`\n",
    "\n",
    "\t- Delete the running container. Do this if you have updates \n",
    "\n",
    "\t\t- Connect to shell: ssh duckie@\\<MMname\\>.local \n",
    "\n",
    "\t\t- List docker images: docker ps \n",
    "\n",
    "\t\t- Delete the container: docker rm -f \\<container_ID\\> \n",
    "\n",
    "\t\t- Exit the shell: exit \n"
   ]
  },
  {
   "cell_type": "markdown",
   "metadata": {},
   "source": [
    "### GUI TOOLS\n",
    "In a hostOS terminal run the following commands"
   ]
  },
  {
   "cell_type": "code",
   "execution_count": null,
   "metadata": {
    "vscode": {
     "languageId": "shellscript"
    }
   },
   "outputs": [],
   "source": [
    "dts start_gui_tools ee483mm[number]"
   ]
  },
  {
   "cell_type": "markdown",
   "metadata": {},
   "source": [
    "1. To observe images: `rqt_image_view`\n",
    "2. To observe the rqt_plot: `rqt_plot`\n",
    "3. To plot topic values: `rosrun rqt_plot rqt_plot`\n",
    "4. To observe topic values in the terminal: `rostopic echo [name of the topic]`\n",
    "\n",
    "\n",
    "<br><img src=\"../assets/lab3-images/dts-gui.png\" style=\"width: 75%; height: auto;\"></br>"
   ]
  }
 ],
 "metadata": {
  "kernelspec": {
   "display_name": "Python 3.8.10 64-bit",
   "language": "python",
   "name": "python3"
  },
  "language_info": {
   "name": "python",
   "version": "3.8.10"
  },
  "vscode": {
   "interpreter": {
    "hash": "916dbcbb3f70747c44a77c7bcd40155683ae19c65e1c03b4aa3499c5328201f1"
   }
  }
 },
 "nbformat": 4,
 "nbformat_minor": 2
}
