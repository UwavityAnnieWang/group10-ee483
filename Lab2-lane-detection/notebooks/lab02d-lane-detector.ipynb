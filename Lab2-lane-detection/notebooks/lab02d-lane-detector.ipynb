{
 "cells": [
  {
   "cell_type": "markdown",
   "metadata": {},
   "source": [
    "# <p style=\"text-align: center;\"> <span style=\"color:yellowgreen\"> Lane detector </span></p>"
   ]
  },
  {
   "cell_type": "markdown",
   "metadata": {},
   "source": [
    "### Code structure\n",
    "\n",
    "You already have most of the code needed to complete this assignment from Exs 4 and 5.   \n",
    "It is recommended to combine these nodes into one node with only one callback.   \n",
    "Usually, we prefer multiple smaller nodes for modularity purposes.  \n",
    "However, this comes with the cost of sending and receiving several images which can produce lagging in embedded systems such as the Jetson Nano.   \n",
    "Therefore, we recommended to combine your nodes from Exs 4 and 5 into one node that subscribe to the image from the Duckiebot camera and outputs the resulting line segments post-line detection.   \n",
    "The MM publishes the camera image in the topic `/ee483mm<number>/camera_node/image/compressed`.\n",
    "\n",
    "### Compressed Images\n",
    "\n",
    "As we seen in notebook 02b, you need to subscribe to the output of the MM's camera.  \n",
    "The camera published a CompressedImage, so we need to modify the conversion function in our OpenCV bridge:\n",
    "\n",
    "`self.bridge.compressed_imgmsg_to_cv2(compressed_image)`  \n",
    "\n",
    "There is no need to publish compressed images.  \n",
    "**Your publishers can publish the Image message type**\n",
    "\n",
    "### Processing type\n",
    "Although the Jetson Nano is a relatively powerful embedded system, your image processing code will probably take a relatively long time to run on the robot.   \n",
    "The MM camera images are published about every 50 ms.\n",
    "However, your code could take a whole second to complete.   \n",
    "Left to default settings, ROS will patiently compile messages in a queue waiting for you to get to them, but this will mean your images will be seconds (or more) out of date by the time your code is ready.   \n",
    "To prevent this, we need to give two more parameters to the subscriber function: `queue_size` and `buff_size`\n",
    "Your subscriber line should look something like this:\n",
    "\n",
    "`rospy.Subscriber(\"mm_camera_topic_name\", CompressedImage, self.flipper_cb, queue_size=1, buff_size=10000000)`\n"
   ]
  },
  {
   "cell_type": "markdown",
   "metadata": {},
   "source": [
    "## Testing code\n",
    "\n",
    "Similar to Lab 1 after uploading your Docker image to MM, we need to run the following command to update any changes you make in your lab2 package. \n",
    "\n",
    "**Assumptions:**\n",
    "- You have created the lab2 package in notebook 02b\n",
    "- You are running the command inside `lab-devel`\n",
    "- The laptop is connected the `robot-lan` network\n",
    "- The MM is on\n"
   ]
  },
  {
   "cell_type": "code",
   "execution_count": null,
   "metadata": {
    "vscode": {
     "languageId": "shellscript"
    }
   },
   "outputs": [],
   "source": [
    "dts devel run -H ee483mm[number].local -s -M --cmd bash -f "
   ]
  },
  {
   "cell_type": "markdown",
   "metadata": {},
   "source": [
    "Once the MM shell appear, built and activate the catkin workspace  \n",
    "Sometimes, you don't need to build or source it everytime you run dts devel run (give a try)  \n",
    "It might be that the autocomplete might not work though but the rosrun still works with your package when you run it"
   ]
  },
  {
   "cell_type": "code",
   "execution_count": null,
   "metadata": {
    "vscode": {
     "languageId": "shellscript"
    }
   },
   "outputs": [],
   "source": [
    "catkin_build\n",
    "source /code/catkin_ws/devel/setup.bash"
   ]
  },
  {
   "cell_type": "markdown",
   "metadata": {},
   "source": [
    "To exit the MM Devel container shell use command: `exit`"
   ]
  },
  {
   "cell_type": "markdown",
   "metadata": {},
   "source": [
    "### Common errors\n",
    "1. If you get a docker conflict saying container is already running, there are two options \n",
    "\n",
    "\t- Attach to the running container.\n",
    "\n",
    "\t\t`dts devel run attach`\n",
    "\n",
    "\t- Delete the running container. Do this if you have updates \n",
    "\n",
    "\t\t- Connect to shell: ssh duckie@\\<MMname\\>.local \n",
    "\n",
    "\t\t- List docker images: docker ps \n",
    "\n",
    "\t\t- Delete the container: docker rm -f \\<container_ID\\> \n",
    "\n",
    "\t\t- Exit the shell: exit \n",
    "\n"
   ]
  },
  {
   "cell_type": "markdown",
   "metadata": {},
   "source": [
    "### Observing the camera\n",
    "1. In a hostOS terminal run the following commands\n",
    "\t- After starting the start_gui_tools, you can also run the `rqt_graph` instead of the `rqt_image_view`.\n",
    "\t- More details in https://docs.duckietown.com/daffy/opmanual-duckiebot/operations/make_it_see/index.html"
   ]
  },
  {
   "cell_type": "code",
   "execution_count": null,
   "metadata": {
    "vscode": {
     "languageId": "shellscript"
    }
   },
   "outputs": [],
   "source": [
    "dts start_gui_tools ee483mm[number]\n",
    "rqt_image_view"
   ]
  }
 ],
 "metadata": {
  "kernelspec": {
   "display_name": "Python 3.8.10 64-bit",
   "language": "python",
   "name": "python3"
  },
  "language_info": {
   "name": "python",
   "version": "3.8.10"
  },
  "vscode": {
   "interpreter": {
    "hash": "916dbcbb3f70747c44a77c7bcd40155683ae19c65e1c03b4aa3499c5328201f1"
   }
  }
 },
 "nbformat": 4,
 "nbformat_minor": 2
}
