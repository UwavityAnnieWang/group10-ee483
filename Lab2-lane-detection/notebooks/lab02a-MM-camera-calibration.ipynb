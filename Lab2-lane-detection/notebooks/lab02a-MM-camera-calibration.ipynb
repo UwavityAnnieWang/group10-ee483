{
 "cells": [
  {
   "cell_type": "markdown",
   "metadata": {},
   "source": [
    "# <p style=\"text-align: center;\"> <span style=\"color:yellowgreen\"> MM camera calibration </span></p>\n",
    "\n",
    "In this notebook, we will follow the Duckietown information to calibrate the MM camera.\n",
    "\n",
    "Follow the link below to get instructions for the camera calibration:  \n",
    "\n",
    "<h4><strong> <a href=\"https://docs.duckietown.com/daffy/opmanual-duckiebot/operations/calibration_camera/index.html\">MM camera calibration</a></strong> </h4>\n",
    "\n",
    "\n",
    "<br><img src=\"../assets/lab2-images/camera-calibration.png\" style=\"width: 35%; height: auto;\"></br>"
   ]
  }
 ],
 "metadata": {
  "kernelspec": {
   "display_name": "Python 3.8.10 64-bit",
   "language": "python",
   "name": "python3"
  },
  "language_info": {
   "name": "python",
   "version": "3.8.10"
  },
  "vscode": {
   "interpreter": {
    "hash": "916dbcbb3f70747c44a77c7bcd40155683ae19c65e1c03b4aa3499c5328201f1"
   }
  }
 },
 "nbformat": 4,
 "nbformat_minor": 2
}
