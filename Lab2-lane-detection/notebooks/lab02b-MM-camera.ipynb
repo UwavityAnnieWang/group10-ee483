{
 "cells": [
  {
   "cell_type": "markdown",
   "metadata": {},
   "source": [
    "# <p style=\"text-align: center;\"> <span style=\"color:yellowgreen\"> MM camera </span></p>\n",
    "\n",
    "In this notebook, we will cover information about the MM camera"
   ]
  },
  {
   "cell_type": "markdown",
   "metadata": {},
   "source": [
    "## Observing the camera with rqt_image_view\n",
    "\n",
    "\n",
    "The docker container from Lab 1 should already be in the MM.  \n",
    "We just need to sync the new available code to the MM. \n",
    "\n",
    "1. In the HostOS terminal, go to the `lab-devel` directory using the `cd` command.  \n",
    "Double check that you are in the `lab-devel` folder with the `pwd` command. \n",
    "It should return: `repo_folder/lab-devel`\n",
    "\n",
    "2. To connect visuals to from the MM to the laptop monitor, we need to use the dts gui command.\n",
    "This will allow to open rqt_image_view, or rqt_graph in the laptop computer based on the docker container in the MM.\n",
    "To start the gui, tun the following command.\n"
   ]
  },
  {
   "cell_type": "code",
   "execution_count": null,
   "metadata": {
    "vscode": {
     "languageId": "shellscript"
    }
   },
   "outputs": [],
   "source": [
    "dts start_gui_tools ee483mm<number>"
   ]
  },
  {
   "cell_type": "markdown",
   "metadata": {},
   "source": [
    "Again this command allows us to open a new terminal tab that can connect visuals to the laptop.   \n",
    "The usual dts devel run attach cannot connect to the notebook monitor while start_gui_tools can.  \n",
    "Your terminal will look something similar to this:\n",
    "\n",
    "\n",
    "<br><img src=\"../assets/lab2-images/dts-gui.png\" style=\"width: 75%; height: auto;\"></br>\n",
    "\n",
    "You can only run gui in one terminal, i.e., you cannot have multiple terminals with start_gui_tools.  \n",
    "If you have a terminal running with start_gui_tools and try to open a second one, you will get an error saying that you already have a terminal open with gui.  \n",
    "\n",
    "3. Once the MM shell appears, run `rqt_image_view`  \n",
    "The camera topic is called `ee483mm<number>/camera_node/image/compressed`  \n",
    "When you select this topic in the rqt_image_view, you should see the camera image \n",
    "Make sure to remove the camera cover  \n",
    "**You do not need to place it back, specially after the callibration**\n",
    "\n",
    "4. You can close the `rqt_image_view` when done observing. You can follow these steps to reopen. \n",
    "\n",
    "5. Keep the gui terminal open, i.e., do not exit the container terminal after running `dts start_gui_tools ee483mm<number>`  \n",
    "We will use it again "
   ]
  },
  {
   "cell_type": "markdown",
   "metadata": {},
   "source": [
    "## Image topic \n",
    "\n",
    "\n",
    "The image in the MM is `Compressed` in order to reduce the computational burden in embedded systems.  \n",
    "\n",
    "1. Let's find out about this type. In the gui terminal (the one after running `dts start_gui_tools ee483mm<number>`), "
   ]
  },
  {
   "cell_type": "code",
   "execution_count": null,
   "metadata": {
    "vscode": {
     "languageId": "shellscript"
    }
   },
   "outputs": [],
   "source": [
    "rostopic info /ee483mm<number>/camera_node/image/compressed"
   ]
  },
  {
   "cell_type": "markdown",
   "metadata": {},
   "source": [
    "You should see an image similar to the following:\n",
    "\n",
    "<br><img src=\"../assets/lab2-images/compressed-image.png\" style=\"width: 75%; height: auto;\"></br>\n",
    "\n",
    "**One difference in your node compared to Exs 4 and 5 are the convertion used in cv_bridge.**  \n",
    "You will need to use a slightly different function in your OpenCV bridge: `self.bridge.compressed_imgmsg_to_cv2`  \n",
    "There is no need to publish compressed images though.\n",
    "\n",
    "Note that you can run debuging commands such as rostopic, rosnode, etc in this terminal.\n",
    "\n",
    "2. You can close the gui terminal using the command `exit`."
   ]
  },
  {
   "cell_type": "markdown",
   "metadata": {},
   "source": [
    "## Image flip\n",
    "\n",
    "Similar to Ex4, let's first create a simple node to flip the image coming from the MM.\n",
    "\n",
    "### First we need to create your lab2 package\n",
    "(DOESN'T WORK IF NOT ADM - COPY PACKAGE IS BETTER - OR CREATE PACKAGE BEFORE SENDING TO THEM)\n",
    "\n",
    "If we create the package directly in the MM, it will not sync back to the laptop.  \n",
    "For this reason, we will create the package in the Devel container in the laptop.  \n",
    "Next, we will sync to the Devel container in the MM \n",
    "\n",
    "\n",
    "1. In the HostOS terminal, go to the `lab-devel` directory using the `cd` command.  \n",
    "Double check that you are in the `lab-devel` folder with the `pwd` command. \n",
    "It should return: `repo_folder/lab-devel`\n",
    "\n",
    "2. Building and running the image in the laptop first  \n",
    "Similar to the exercise Devel container \n"
   ]
  },
  {
   "cell_type": "code",
   "execution_count": null,
   "metadata": {
    "vscode": {
     "languageId": "shellscript"
    }
   },
   "outputs": [],
   "source": [
    "dts devel build --pull\n",
    "dts devel run -s -X -M --cmd bash -f "
   ]
  },
  {
   "cell_type": "markdown",
   "metadata": {},
   "source": [
    "3. Once the devel container shell appears, let's create a new package.\n",
    "First go to the packages folder."
   ]
  },
  {
   "cell_type": "code",
   "execution_count": null,
   "metadata": {
    "vscode": {
     "languageId": "shellscript"
    }
   },
   "outputs": [],
   "source": [
    "cd packages"
   ]
  },
  {
   "cell_type": "markdown",
   "metadata": {},
   "source": [
    "4. Create a new package with catkin_create_pkg"
   ]
  },
  {
   "cell_type": "code",
   "execution_count": null,
   "metadata": {
    "vscode": {
     "languageId": "shellscript"
    }
   },
   "outputs": [],
   "source": [
    "catkin_create_pkg lab2 sensor_msgs cv_bridge rospy duckietown_msgs std_msgs"
   ]
  },
  {
   "cell_type": "markdown",
   "metadata": {},
   "source": [
    "You should be able to see the folder `lab2` inside the `lab-devel/packages`  \n",
    "Your `lab1`package is also there from Lab 1 \n",
    "\n",
    "5. Exiting the Devel container in your laptop with command `exit`\n",
    "\n",
    "### Creating the img_flip node\n",
    "\n",
    "1. Create a node inside the src folder in the lab2 package. \n",
    "In VS Code in the Machine, right click in the src folder `New File...`: Name img_flip.py\n",
    "\n",
    "2. Make it executable: `chmod +x packages/lab2/src/img_flip.py` command (assuming your terminal is inside the lab-devel folder). If it is not, you need to give the path, e.g., `chmod +x lab2/src/img_flip.py`, when the terminal is inside lab2 folder.\n",
    "\n",
    "3. Adding the flip code to the `img_flip.py` node."
   ]
  },
  {
   "cell_type": "code",
   "execution_count": null,
   "metadata": {
    "vscode": {
     "languageId": "shellscript"
    }
   },
   "outputs": [],
   "source": [
    "#!/usr/bin/env python3\n",
    "\n",
    "import sys\n",
    "import rospy\n",
    "import cv2\n",
    "from sensor_msgs.msg import Image\n",
    "from cv_bridge import CvBridge\n",
    "\n",
    "class ImageFlipper:\n",
    "    def __init__(self):\n",
    "        # Instatiate the converter class once by using a class member\n",
    "        self.bridge = CvBridge()\n",
    "        rospy.Subscriber(\"image\", Image, self.flipper_cb)\n",
    "        self.pub = rospy.Publisher(\"mirrored\", Image, queue_size=10)\n",
    "    \n",
    "    def flipper_cb(self, msg):\n",
    "        # convert to a ROS image using the bridge\n",
    "        cv_img = self.bridge.imgmsg_to_cv2(msg, \"bgr8\")\n",
    "        \n",
    "        # flip along the horizontal axis using an OpenCV function\n",
    "        cv_flipped = cv2.flip(cv_img, 1)\n",
    "        \n",
    "        # convert new image to ROS to send\n",
    "        ros_flipped = self.bridge.cv2_to_imgmsg(cv_flipped, \"bgr8\")\n",
    "        \n",
    "        # publish flipped image\n",
    "        self.pub.publish(ros_flipped)\n",
    "        \n",
    "\n",
    "if __name__==\"__main__\":\n",
    "    # initialize our node and create a publisher as normal\n",
    "    rospy.init_node(\"image_flipper\", anonymous=True)\n",
    "    img_flip = ImageFlipper()\n",
    "    rospy.spin()\n"
   ]
  },
  {
   "cell_type": "markdown",
   "metadata": {},
   "source": [
    "This code is the same as in flip_image in the package img_proc_aux from Ex4  \n",
    "**IT WILL NOT WORK DIRECTLY IN THE MM**\n",
    "\n",
    "Changes you need to do\n",
    "\n",
    "- Subscribe to the correct camera topic name\n",
    "- Import CompressedImage message type\n",
    "- Import os (to discover the name of the MM as you did in Lab1)\n",
    "- Create Subscriber for CompressedImage: `rospy.Subscriber(\"mm_camera_topic_name\", CompressedImage, self.flipper_cb, queue_size=1, buff_size=10000000) #BUFF SIZE 10MB`   \n",
    "Although the Jetson Nano is a relatively powerful embedded system, your image processing code will probably take a relatively long time to run on the robot. \n",
    "The additional arguments in the subscriber ensures that your ROS is not processing queued images (old images)  \n",
    "- Change the conversion method used to CompressedImage instead of Image, i.e., function `self.bridge.compressed_imgmsg_to_cv2(compressed_image)`  \n",
    "Note that in the compressed image conversion, we do not add a encoding\n",
    "- You can publish Image instead of CompressedImage in your publisher\n",
    "\n",
    "4. Sync'ing the image in the MM (You need to be in the lab-devel folder)"
   ]
  },
  {
   "cell_type": "code",
   "execution_count": null,
   "metadata": {
    "vscode": {
     "languageId": "shellscript"
    }
   },
   "outputs": [],
   "source": [
    "dts devel run -H ee483mm<number>.local -s -M --cmd bash -f "
   ]
  },
  {
   "cell_type": "markdown",
   "metadata": {},
   "source": [
    "5. Building and source the catkin workspace"
   ]
  },
  {
   "cell_type": "code",
   "execution_count": null,
   "metadata": {
    "vscode": {
     "languageId": "shellscript"
    }
   },
   "outputs": [],
   "source": [
    "catkin_build\n",
    "source /code/catkin_ws/devel/setup.bash"
   ]
  },
  {
   "cell_type": "markdown",
   "metadata": {},
   "source": [
    "6. Running the node `rosrun lab2 img_flip.py`\n",
    "\n",
    "7. Follow 'Observing the camera' to open rqt_image_view to see the flipped image  \n",
    "You can see the camera_node/image/compressed and the mirrored image as below\n",
    "\n",
    "<br><img src=\"../assets/lab2-images/camera_image.png\" style=\"width: 35%; height: auto;\"> <img src=\"../assets/lab2-images/camera_mirrored.png\" style=\"width: 35%; height: auto;\"> </br>"
   ]
  }
 ],
 "metadata": {
  "kernelspec": {
   "display_name": "Python 3.8.10 64-bit",
   "language": "python",
   "name": "python3"
  },
  "language_info": {
   "name": "python",
   "version": "3.8.10"
  },
  "vscode": {
   "interpreter": {
    "hash": "916dbcbb3f70747c44a77c7bcd40155683ae19c65e1c03b4aa3499c5328201f1"
   }
  }
 },
 "nbformat": 4,
 "nbformat_minor": 2
}
